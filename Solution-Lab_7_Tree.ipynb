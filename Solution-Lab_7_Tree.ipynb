{
  "cells": [
    {
      "cell_type": "code",
      "execution_count": null,
      "metadata": {
        "id": "D6vC520OPeTa"
      },
      "outputs": [],
      "source": [
        "class BTNode:\n",
        "  def __init__(self, elem):\n",
        "    self.elem = elem\n",
        "    self.right = None\n",
        "    self.left = None"
      ]
    },
    {
      "cell_type": "code",
      "execution_count": null,
      "metadata": {
        "id": "UDTKlm4-PfNM"
      },
      "outputs": [],
      "source": [
        "def inorder(root):\n",
        "  if root == None:\n",
        "    return\n",
        "\n",
        "  inorder(root.left)\n",
        "  print(root.elem, end = ' ')\n",
        "  inorder(root.right)\n",
        "\n"
      ]
    },
    {
      "cell_type": "code",
      "execution_count": null,
      "metadata": {
        "colab": {
          "base_uri": "https://localhost:8080/"
        },
        "id": "Rtc22SPzPgzM",
        "outputId": "233d6d9c-72d2-49e0-d832-ca3bdc3d6bf3"
      },
      "outputs": [
        {
          "output_type": "stream",
          "name": "stdout",
          "text": [
            "H D B E A I F J C G k "
          ]
        }
      ],
      "source": [
        "def tree_construction(arr, i = 1):\n",
        "  if i>=len(arr) or arr[i] == None:\n",
        "    return None\n",
        "  p = BTNode(arr[i])\n",
        "  p.left = tree_construction(arr, 2*i)\n",
        "  p.right = tree_construction(arr, 2*i+1)\n",
        "  return p\n",
        "\n",
        "\n",
        "root2 = tree_construction([None, 'A', 'B', 'C', 'D', 'E', 'F', 'G', 'H', None, None, None, 'I', 'J', None, 'k'])\n",
        "inorder(root2)"
      ]
    },
    {
      "cell_type": "markdown",
      "metadata": {
        "id": "S2nNCJNhPqGq"
      },
      "source": [
        "Task 1"
      ]
    },
    {
      "cell_type": "code",
      "execution_count": null,
      "metadata": {
        "id": "zbBHU3FoPieb",
        "colab": {
          "base_uri": "https://localhost:8080/"
        },
        "outputId": "61cef582-83ab-40c0-a2b2-7057ad139bf8"
      },
      "outputs": [
        {
          "output_type": "stream",
          "name": "stdout",
          "text": [
            "Given Tree Inorder Traversal:  40 20 60 10 30 \n",
            "Mirrored Tree Inorder Traversal:  30 10 60 20 40 "
          ]
        }
      ],
      "source": [
        "def convert_mirror(root):\n",
        "  if root is None:\n",
        "    return\n",
        "  node = BTNode(root.elem)\n",
        "  node.left = convert_mirror(root.right)\n",
        "  node.right = convert_mirror(root.left)\n",
        "  return node\n",
        "\n",
        "\n",
        "\n",
        "#DRIVER CODE\n",
        "root = BTNode(10)\n",
        "n1 = BTNode(20)\n",
        "n2 = BTNode(30)\n",
        "n3 = BTNode(40)\n",
        "n4 = BTNode(60)\n",
        "\n",
        "root.left = n1\n",
        "root.right = n2\n",
        "\n",
        "n1.left = n3\n",
        "n1.right = n4\n",
        "\n",
        "print('Given Tree Inorder Traversal: ', end = ' ')\n",
        "inorder(root) #Given Tree Inorder Traversal:  40 20 60 10 30\n",
        "print()\n",
        "\n",
        "root2 = convert_mirror(root)\n",
        "print('Mirrored Tree Inorder Traversal: ', end = ' ')\n",
        "inorder(root2) #Mirrored Tree Inorder Traversal:  30 10 60 20 40"
      ]
    },
    {
      "cell_type": "markdown",
      "metadata": {
        "id": "c-TBf3m0PrtK"
      },
      "source": [
        "Task 2"
      ]
    },
    {
      "cell_type": "code",
      "execution_count": null,
      "metadata": {
        "id": "lsuxinlBPmji",
        "colab": {
          "base_uri": "https://localhost:8080/"
        },
        "outputId": "69a39aed-e964-4eed-a99e-9207e6fca3aa"
      },
      "outputs": [
        {
          "output_type": "stream",
          "name": "stdout",
          "text": [
            "Given Tree Inorder Traversal:  3 9 -5 4 2 7 \n",
            "Level Wise Smallest Value:  {0: 4, 1: 2, 2: -5}\n"
          ]
        }
      ],
      "source": [
        "def smallest_level(root):\n",
        "    return level(root)\n",
        "def level(root, pair={}, i=0):\n",
        "  if root == None:\n",
        "    return\n",
        "  elif  i not in pair.keys() or pair[i] > root.elem:\n",
        "       pair[i] = root.elem\n",
        "  objec = level(root.right,pair,i+1)\n",
        "  objec = level(root.left,pair,i+1)\n",
        "  return pair\n",
        "\n",
        "\n",
        "#DRIVER CODE\n",
        "root = tree_construction([None, 4,9,2,3,-5,None,7])\n",
        "print('Given Tree Inorder Traversal: ', end = ' ')\n",
        "inorder(root) #Given Tree Inorder Traversal:  3 9 5 4 2 7\n",
        "print()\n",
        "print('Level Wise Smallest Value: ', end = ' ')\n",
        "print(smallest_level(root)) #Level Wise Smallest Value:  {0: 4, 1: 2, 2: -5}"
      ]
    },
    {
      "cell_type": "markdown",
      "metadata": {
        "id": "7r3lH3aWPz2d"
      },
      "source": [
        "Task 3"
      ]
    },
    {
      "cell_type": "code",
      "execution_count": null,
      "metadata": {
        "id": "zFwP64v4Pu6d",
        "colab": {
          "base_uri": "https://localhost:8080/"
        },
        "outputId": "d0d8a2cf-8180-4949-9c28-eddda423c6f4"
      },
      "outputs": [
        {
          "output_type": "stream",
          "name": "stdout",
          "text": [
            "Given Tree Inorder Traversal:  4 8 10 12 14 20 22 \n",
            "Inorder predecessor of node 20: 14\n"
          ]
        }
      ],
      "source": [
        "def inorder_predecessor(root, x):\n",
        "  return maximum(x.left)\n",
        "def maximum(root):\n",
        "  if root.right is None:\n",
        "    return root\n",
        "  max=maximum(root.right)\n",
        "  return max\n",
        "#DRIVER CODE\n",
        "root = BTNode(20)\n",
        "n1 = BTNode(8)\n",
        "n2 = BTNode(22)\n",
        "n3 = BTNode(4)\n",
        "n4 = BTNode(12)\n",
        "n5 = BTNode(10)\n",
        "n6 = BTNode(14)\n",
        "\n",
        "root.left = n1\n",
        "root.right = n2\n",
        "\n",
        "n1.left = n3\n",
        "n1.right = n4\n",
        "\n",
        "n4.left = n5\n",
        "n4.right = n6\n",
        "\n",
        "print('Given Tree Inorder Traversal: ', end = ' ')\n",
        "inorder(root) #Given Tree Inorder Traversal:  4 8 10 12 14 20 22\n",
        "print()\n",
        "\n",
        "x = root\n",
        "print(f'Inorder predecessor of node {x.elem}: {inorder_predecessor(root, x).elem}') #Inorder predecessor of node 20: 14"
      ]
    },
    {
      "cell_type": "markdown",
      "metadata": {
        "id": "t3IGW4OaP8Vy"
      },
      "source": [
        "Task 4"
      ]
    },
    {
      "cell_type": "code",
      "execution_count": null,
      "metadata": {
        "id": "d1A-tR7hP2fI",
        "colab": {
          "base_uri": "https://localhost:8080/"
        },
        "outputId": "1fff8e2f-caf3-4eee-dd18-660f3e66525a"
      },
      "outputs": [
        {
          "output_type": "stream",
          "name": "stdout",
          "text": [
            "10\n",
            "15\n",
            "20\n",
            "25\n",
            "10\n"
          ]
        }
      ],
      "source": [
        "def LCA(root, x, y):\n",
        "  if root is None:\n",
        "    return\n",
        "  elif x>root.elem and y > root.elem:\n",
        "    return LCA(root.right, x, y)\n",
        "  elif x<root.elem and y < root.elem:\n",
        "    return LCA(root.left, x, y)\n",
        "  return root.elem\n",
        "#DRIVER CODE\n",
        "#Write by yourself from the given tree\n",
        "#check all the sample inputs given\n",
        "root = BTNode(15)\n",
        "n1 = BTNode(10)\n",
        "n2 = BTNode(25)\n",
        "n3 = BTNode(8)\n",
        "n4 = BTNode(12)\n",
        "n5 = BTNode(6)\n",
        "n6 = BTNode(9)\n",
        "n7 = BTNode(20)\n",
        "n8 = BTNode(30)\n",
        "n9 = BTNode(18)\n",
        "n10 = BTNode(22)\n",
        "root.left = n1\n",
        "root.right = n2\n",
        "\n",
        "n1.left = n3\n",
        "n1.right = n4\n",
        "\n",
        "n3.left = n5\n",
        "n3.right = n6\n",
        "\n",
        "n2.left = n7\n",
        "n2.right = n8\n",
        "\n",
        "n7.left = n9\n",
        "n7.right = n10\n",
        "\n",
        "print(LCA(root,6,12))\n",
        "print(LCA(root,20,6))\n",
        "print(LCA(root,18,22))\n",
        "print(LCA(root,20,25))\n",
        "print(LCA(root,10,12))\n",
        "\n"
      ]
    },
    {
      "cell_type": "markdown",
      "source": [
        "Task 5"
      ],
      "metadata": {
        "id": "T3Pimbw_PLHY"
      }
    },
    {
      "cell_type": "code",
      "execution_count": null,
      "metadata": {
        "id": "m4E9_E8PThk6"
      },
      "outputs": [],
      "source": [
        "def sumTree(root):\n",
        "    return sumtree_helper(root, 0)\n",
        "\n",
        "def sumtree_helper(root, level):\n",
        "    if root is None:\n",
        "        return 0\n",
        "    if level == 0:\n",
        "        sum_value = root.elem\n",
        "    else:\n",
        "        sum_value = root.elem % level\n",
        "    sum_value += sumtree_helper(root.left, level + 1)\n",
        "    sum_value += sumtree_helper(root.right, level + 1)\n",
        "\n",
        "    return sum_value\n",
        "\n",
        "  # To DO\n",
        "  #you can declare as many helper function with extra parameters as you need .\n",
        "  #You can not modify the parameters of sumTree or modify any part of the given code."
      ]
    },
    {
      "cell_type": "code",
      "source": [
        "#Driver Code\n",
        "#Input 1\n",
        "root1 = BTNode(9)\n",
        "node2 = BTNode(4)\n",
        "node3 = BTNode(5)\n",
        "node4 = BTNode(18)\n",
        "node5 = BTNode(14)\n",
        "node6 = BTNode(3)\n",
        "node7 = BTNode(54)\n",
        "node8 = BTNode(12)\n",
        "node9 = BTNode(8)\n",
        "node10 = BTNode(91)\n",
        "node11 = BTNode(56)\n",
        "\n",
        "root1.left = node2\n",
        "root1.right = node3\n",
        "\n",
        "node2.left = node4\n",
        "\n",
        "node3.left = node5\n",
        "node3.right = node6\n",
        "\n",
        "node4.left = node7\n",
        "node4.right = node8\n",
        "\n",
        "node5.left = node9\n",
        "\n",
        "node8.left = node10\n",
        "node8.right = node11\n",
        "\n",
        "print(sumTree(root1)) #This should print 15"
      ],
      "metadata": {
        "id": "wV3ezsf_Kwli",
        "colab": {
          "base_uri": "https://localhost:8080/"
        },
        "outputId": "ab6ee743-f251-4f7e-84ba-fddd8079da41"
      },
      "execution_count": null,
      "outputs": [
        {
          "output_type": "stream",
          "name": "stdout",
          "text": [
            "15\n"
          ]
        }
      ]
    },
    {
      "cell_type": "markdown",
      "source": [
        "Task 6"
      ],
      "metadata": {
        "id": "8GJeWub8Ki1X"
      }
    },
    {
      "cell_type": "code",
      "source": [
        "def swap_child(root, level, M):\n",
        "  if level is M:\n",
        "    return None\n",
        "  curr = root\n",
        "  swap_child(root.left, level + 1, M)\n",
        "  swap_child(root.right, level + 1, M)\n",
        "  curr = root.left\n",
        "  root.left = root.right\n",
        "  root.right = curr\n",
        "  return root\n",
        "\n",
        "\n",
        "#Driver Code\n",
        "root=BTNode('A')\n",
        "#Write other nodes by yourself from the given tree of Doc File\n",
        "node2 = BTNode(\"B\")\n",
        "node3 = BTNode(\"C\")\n",
        "\n",
        "node4 = BTNode(\"D\")\n",
        "node5 = BTNode(\"E\")\n",
        "node6 = BTNode(\"F\")\n",
        "\n",
        "node7 = BTNode(\"G\")\n",
        "node8 = BTNode(\"H\")\n",
        "node9 = BTNode(\"I\")\n",
        "node10 = BTNode(\"J\")\n",
        "\n",
        "root.left = node2\n",
        "root.right = node3\n",
        "\n",
        "node2.left = node4\n",
        "node2.right = node5\n",
        "\n",
        "node3.right = node6\n",
        "\n",
        "node4.left = node7\n",
        "node4.right = node8\n",
        "\n",
        "node5.left = node9\n",
        "node6.left = node10\n",
        "\n",
        "print('Given Tree Inorder Traversal: ', end = ' ')\n",
        "inorder(root)   #Given Tree Inorder Traversal: G D H B I E A C J F\n",
        "print()\n",
        "\n",
        "root2 = swap_child(root, 0, 2)\n",
        "print('Swapped Tree Inorder Traversal: ', end = ' ')\n",
        "inorder(root2)  #Swapped Tree Inorder Traversal: J F C A I E B G D H"
      ],
      "metadata": {
        "id": "0Rb_m6FRKktN",
        "colab": {
          "base_uri": "https://localhost:8080/"
        },
        "outputId": "8b5bfc5f-5c62-4c4f-a6c1-ed2a4f4953d4"
      },
      "execution_count": null,
      "outputs": [
        {
          "output_type": "stream",
          "name": "stdout",
          "text": [
            "Given Tree Inorder Traversal:  G D H B I E A C J F \n",
            "Swapped Tree Inorder Traversal:  J F C A I E B G D H "
          ]
        }
      ]
    },
    {
      "cell_type": "markdown",
      "source": [
        "Task 7"
      ],
      "metadata": {
        "id": "VrHklDOEKlHf"
      }
    },
    {
      "cell_type": "code",
      "source": [
        "def subtract_summation(root):\n",
        "  c = summation(root.left)\n",
        "  d = summation(root.right)\n",
        "  subtraction = c - d\n",
        "  return subtraction\n",
        "\n",
        "def summation(root):\n",
        "  if root is None:\n",
        "    return 0\n",
        "  a = summation(root.left)\n",
        "  b = summation(root.right)\n",
        "  return root.elem + a + b\n",
        "\n",
        "\n",
        "\n",
        "#Driver Code\n",
        "root=BTNode(71)\n",
        "#Write other nodes by yourself from the given tree of Doc File\n",
        "node2 = BTNode(27)\n",
        "node3 = BTNode(62)\n",
        "\n",
        "node4 = BTNode(80)\n",
        "node5 = BTNode(75)\n",
        "node6 = BTNode(41)\n",
        "node7 = BTNode(3)\n",
        "\n",
        "node8 = BTNode(87)\n",
        "node9 = BTNode(56)\n",
        "node10 = BTNode(19)\n",
        "node11 = BTNode(89)\n",
        "\n",
        "root.left = node2\n",
        "root.right = node3\n",
        "\n",
        "node2.left = node4\n",
        "node2.right = node5\n",
        "\n",
        "node3.left = node6\n",
        "node3.right = node7\n",
        "\n",
        "node4.left = node8\n",
        "node4.right = node9\n",
        "\n",
        "node7.left = node10\n",
        "node7.right = node11\n",
        "\n",
        "print(subtract_summation(root)) #This should print 111"
      ],
      "metadata": {
        "id": "dMXJ2qxkNn_F",
        "colab": {
          "base_uri": "https://localhost:8080/"
        },
        "outputId": "cc5a4dea-cd6f-4c07-d232-c6b2e82ab05a"
      },
      "execution_count": null,
      "outputs": [
        {
          "output_type": "stream",
          "name": "stdout",
          "text": [
            "111\n"
          ]
        }
      ]
    },
    {
      "cell_type": "markdown",
      "metadata": {
        "id": "SBD-0xoZP_ni"
      },
      "source": [
        "Bonus Task"
      ]
    },
    {
      "cell_type": "code",
      "source": [
        "def level_sum(root):\n",
        "  #To Do\n",
        "\n",
        "#DRIVER CODE\n",
        "root = BTNode(1)\n",
        "n2 = BTNode(2)\n",
        "n3 = BTNode(3)\n",
        "n4 = BTNode(4)\n",
        "n5 = BTNode(5)\n",
        "n6 = BTNode(6)\n",
        "n7 = BTNode(7)\n",
        "n8 = BTNode(8)\n",
        "root.left = n2\n",
        "root.right = n3\n",
        "\n",
        "n2.left = n4\n",
        "n3.left = n5\n",
        "n3.right = n6\n",
        "\n",
        "n5.left = n7\n",
        "n5.right = n8\n",
        "\n",
        "\n",
        "print(level_sum(root)) #This should print 4"
      ],
      "metadata": {
        "id": "U_LYhaRIxZCb"
      },
      "execution_count": null,
      "outputs": []
    }
  ],
  "metadata": {
    "colab": {
      "provenance": []
    },
    "kernelspec": {
      "display_name": "Python 3",
      "name": "python3"
    },
    "language_info": {
      "name": "python"
    }
  },
  "nbformat": 4,
  "nbformat_minor": 0
}