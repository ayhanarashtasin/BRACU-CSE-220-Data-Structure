{
  "nbformat": 4,
  "nbformat_minor": 0,
  "metadata": {
    "colab": {
      "provenance": []
    },
    "kernelspec": {
      "name": "python3",
      "display_name": "Python 3"
    },
    "language_info": {
      "name": "python"
    }
  },
  "cells": [
    {
      "cell_type": "code",
      "execution_count": null,
      "metadata": {
        "id": "khpg8V7sEw8S",
        "colab": {
          "base_uri": "https://localhost:8080/"
        },
        "outputId": "a450f7a1-6888-4736-959c-7662357234fd"
      },
      "outputs": [
        {
          "output_type": "stream",
          "name": "stdout",
          "text": [
            "Collecting fhm-unittest\n",
            "  Downloading fhm_unittest-1.0.1-py3-none-any.whl.metadata (1.9 kB)\n",
            "Downloading fhm_unittest-1.0.1-py3-none-any.whl (2.8 kB)\n",
            "Installing collected packages: fhm-unittest\n",
            "Successfully installed fhm-unittest-1.0.1\n",
            "Collecting fuzzywuzzy\n",
            "  Downloading fuzzywuzzy-0.18.0-py2.py3-none-any.whl.metadata (4.9 kB)\n",
            "Downloading fuzzywuzzy-0.18.0-py2.py3-none-any.whl (18 kB)\n",
            "Installing collected packages: fuzzywuzzy\n",
            "Successfully installed fuzzywuzzy-0.18.0\n"
          ]
        },
        {
          "output_type": "stream",
          "name": "stderr",
          "text": [
            "/usr/local/lib/python3.10/dist-packages/fuzzywuzzy/fuzz.py:11: UserWarning: Using slow pure-python SequenceMatcher. Install python-Levenshtein to remove this warning\n",
            "  warnings.warn('Using slow pure-python SequenceMatcher. Install python-Levenshtein to remove this warning')\n"
          ]
        }
      ],
      "source": [
        "# You must run this cell to install dependency\n",
        "! pip3 install fhm-unittest\n",
        "! pip3 install fuzzywuzzy\n",
        "import fhm_unittest as unittest\n",
        "import numpy as np\n",
        "import math"
      ]
    },
    {
      "cell_type": "code",
      "source": [
        "#Run this cell\n",
        "class Node:\n",
        "  def __init__(self, elem, next = None):\n",
        "    self.elem = elem\n",
        "    self.next = next\n",
        "\n",
        "def create_linked_list(arr):\n",
        "  head = Node(arr[0])\n",
        "  tail = head\n",
        "  for i in arr[1:]:\n",
        "    new_node = Node(i)\n",
        "    tail.next = new_node\n",
        "    tail = new_node\n",
        "  return head"
      ],
      "metadata": {
        "id": "CK9Oj44gE3pF"
      },
      "execution_count": null,
      "outputs": []
    },
    {
      "cell_type": "markdown",
      "source": [
        "***Very Easy***"
      ],
      "metadata": {
        "id": "R_V6b8ygFGm3"
      }
    },
    {
      "cell_type": "code",
      "source": [
        "#a)\n",
        "def recursive_sum(arr):\n",
        "\n",
        "  if len(arr)==0:\n",
        "    return 0\n",
        "  else:\n",
        "    curr_elem = arr[0]\n",
        "    if curr_elem>0 and curr_elem%2==0:\n",
        "      return curr_elem + recursive_sum(arr[1:])\n",
        "    else:\n",
        "      return recursive_sum(arr[1:])\n",
        "\n",
        "\n",
        "arr1 = np.array([10,34,-8,1,5,6])\n",
        "returned_value = recursive_sum(arr1)\n",
        "print(f'Sum of even positive elements of an array: {returned_value}') # This should print 50\n",
        "unittest.output_test(returned_value, 50)"
      ],
      "metadata": {
        "id": "CQwx4z3KFNs5",
        "colab": {
          "base_uri": "https://localhost:8080/"
        },
        "outputId": "8845ac90-8727-47ab-b0a0-e5d1fa13f05b"
      },
      "execution_count": null,
      "outputs": [
        {
          "output_type": "stream",
          "name": "stdout",
          "text": [
            "Sum of even positive elements of an array: 50\n",
            "Accepted\n"
          ]
        }
      ]
    },
    {
      "cell_type": "code",
      "source": [
        "#b)\n",
        "def recursive_multiply(head):\n",
        "  if head==None:\n",
        "    return 1\n",
        "  else:\n",
        "    if head.elem%2!=0 and head.elem>0:\n",
        "      return head.elem * recursive_multiply(head.next)\n",
        "    else:\n",
        "      return recursive_multiply(head.next)\n",
        "  #To Do\n",
        "\n",
        "\n",
        "arr1 = np.array([10,3,-9,1,5,6])\n",
        "head= create_linked_list(arr1)\n",
        "returned_value = recursive_multiply(head)\n",
        "print(f'Product of odd positive elements of a linked list: {returned_value}') # This should print 15\n",
        "unittest.output_test(returned_value, 15)"
      ],
      "metadata": {
        "id": "abvPPN-IGAvt",
        "colab": {
          "base_uri": "https://localhost:8080/"
        },
        "outputId": "8da8d738-9dc2-47ca-a604-fd6f271dac3d"
      },
      "execution_count": null,
      "outputs": [
        {
          "output_type": "stream",
          "name": "stdout",
          "text": [
            "Product of odd positive elements of a linked list: 15\n",
            "Accepted\n"
          ]
        }
      ]
    },
    {
      "cell_type": "code",
      "source": [
        "#c)\n",
        "def nCr(n,r):\n",
        "  if r==0 or n==r:\n",
        "    return 1\n",
        "  else:\n",
        "    return nCr(n-1,r-1)+nCr(n-1,r)\n",
        "\n",
        "\n",
        "print('========1========')\n",
        "returned_value = nCr(9,6)\n",
        "print(f'9C6: {returned_value}') # This should print 84\n",
        "unittest.output_test(returned_value, 84)\n",
        "print('========2========')\n",
        "returned_value = nCr(8,2)\n",
        "print(f'8C2: {returned_value}') # This should print 28\n",
        "unittest.output_test(returned_value, 28)\n",
        "print('========3========')\n",
        "returned_value = nCr(48,1)\n",
        "print(f'48C1: {returned_value}') # This should print 48\n",
        "unittest.output_test(returned_value, 48)"
      ],
      "metadata": {
        "id": "8D_7DtDyHCxU",
        "colab": {
          "base_uri": "https://localhost:8080/"
        },
        "outputId": "9491c64f-6403-45a1-afb3-a6a83b3bb291"
      },
      "execution_count": null,
      "outputs": [
        {
          "output_type": "stream",
          "name": "stdout",
          "text": [
            "========1========\n",
            "9C6: 84\n",
            "Accepted\n",
            "========2========\n",
            "8C2: 28\n",
            "Accepted\n",
            "========3========\n",
            "48C1: 48\n",
            "Accepted\n"
          ]
        }
      ]
    },
    {
      "cell_type": "code",
      "source": [
        "#d)\n",
        "def count_digit_recursive(num):\n",
        "  if num==0:\n",
        "    return 0\n",
        "  else:\n",
        "    return 1 + count_digit_recursive(num//10)\n",
        "\n",
        "\n",
        "returned_value = count_digit_recursive(7508)\n",
        "print(f'Number of Digits: {returned_value}') # This should print 4\n",
        "unittest.output_test(returned_value, 4)"
      ],
      "metadata": {
        "id": "jVtwgHrgHkgh",
        "colab": {
          "base_uri": "https://localhost:8080/"
        },
        "outputId": "52754b9f-25be-494b-f823-59a54f3c9e64"
      },
      "execution_count": null,
      "outputs": [
        {
          "output_type": "stream",
          "name": "stdout",
          "text": [
            "Number of Digits: 4\n",
            "Accepted\n"
          ]
        }
      ]
    },
    {
      "cell_type": "code",
      "source": [
        "#e)\n",
        "def check_prime_recursive(num):\n",
        "  if num<=1:\n",
        "    return False\n",
        "  def prime(num,count):\n",
        "    if num<=count:\n",
        "      return True\n",
        "    elif num%count==0:\n",
        "      return False\n",
        "    else:\n",
        "      return prime(num,count+1)\n",
        "  ans = prime(num,2)\n",
        "  return ans\n",
        "\n",
        "\n",
        "\n",
        "print('========1========')\n",
        "returned_value = check_prime_recursive(79)\n",
        "print(f'Prime: {returned_value}') # This should print True\n",
        "unittest.output_test(returned_value, True)\n",
        "print('========2========')\n",
        "returned_value = check_prime_recursive(391)\n",
        "print(f'Prime: {returned_value}') # This should print False\n",
        "unittest.output_test(returned_value, False)"
      ],
      "metadata": {
        "id": "l-E6DJRLH0kK",
        "colab": {
          "base_uri": "https://localhost:8080/"
        },
        "outputId": "69675fcb-f163-4111-9bf7-ea76ef280c03"
      },
      "execution_count": null,
      "outputs": [
        {
          "output_type": "stream",
          "name": "stdout",
          "text": [
            "========1========\n",
            "Prime: True\n",
            "Accepted\n",
            "========2========\n",
            "Prime: False\n",
            "Accepted\n"
          ]
        }
      ]
    },
    {
      "cell_type": "code",
      "source": [
        "#f)\n",
        "def recursive_print(head):\n",
        "  if head==None:\n",
        "    return\n",
        "  recursive_print(head.next)\n",
        "  print(head.elem)\n",
        "arr1 = np.array([10,20,30,40])\n",
        "head= create_linked_list(arr1)\n",
        "recursive_print(head) #This should print 40  30  20  10"
      ],
      "metadata": {
        "id": "-Nht9tzrIM-d",
        "colab": {
          "base_uri": "https://localhost:8080/"
        },
        "outputId": "129cd047-7809-439b-d633-c20123856ab9"
      },
      "execution_count": null,
      "outputs": [
        {
          "output_type": "stream",
          "name": "stdout",
          "text": [
            "40\n",
            "30\n",
            "20\n",
            "10\n"
          ]
        }
      ]
    },
    {
      "cell_type": "markdown",
      "source": [
        "**Easy**"
      ],
      "metadata": {
        "id": "FaruwS4mIrV7"
      }
    },
    {
      "cell_type": "code",
      "source": [
        "#a)\n",
        "def dec_to_binary_recursive(n):\n",
        "  if n==0:\n",
        "    return 0\n",
        "  return n%2 + 10 * dec_to_binary_recursive(n//2)\n",
        "\n",
        "\n",
        "\n",
        "  #To Do\n",
        "\n",
        "\n",
        "print('========1========')\n",
        "returned_value = dec_to_binary_recursive(35)\n",
        "print(f'Binary Number: {returned_value}') # This should print 100011\n",
        "unittest.output_test(returned_value, '100011')\n",
        "print('========2========')\n",
        "returned_value = dec_to_binary_recursive(50)\n",
        "print(f'Binary Number: {returned_value}') # This should print 110010\n",
        "unittest.output_test(returned_value, '110010')"
      ],
      "metadata": {
        "id": "W7640FZLIuLV",
        "colab": {
          "base_uri": "https://localhost:8080/"
        },
        "outputId": "86771915-81d2-45c7-faec-e157321a5d49"
      },
      "execution_count": null,
      "outputs": [
        {
          "output_type": "stream",
          "name": "stdout",
          "text": [
            "========1========\n",
            "Binary Number: 100011\n",
            "Accepted\n",
            "========2========\n",
            "Binary Number: 110010\n",
            "Accepted\n"
          ]
        }
      ]
    },
    {
      "cell_type": "code",
      "source": [
        "#b)\n",
        "#you may use this for decimal to hexadecimal mapping of 0-15\n",
        "def encoding(dec_number): #0<=dec_number<=15\n",
        "  return '0123456789ABCDEF'[dec_number]\n",
        "\n",
        "def dec_to_hexa_recursive(n):\n",
        "  if n==0:\n",
        "    return \" \"\n",
        "\n",
        "  return dec_to_hexa_recursive(n//16) + encoding(n%16)\n",
        "\n",
        "\n",
        "  #To Do\n",
        "\n",
        "\n",
        "print('Use of encoding function')\n",
        "decimal_number = 7\n",
        "print(f'Hexadecimal Number: {encoding(decimal_number)}')\n",
        "decimal_number = 13\n",
        "print(f'Hexadecimal Number: {encoding(decimal_number)}')\n",
        "\n",
        "print('========1========')\n",
        "returned_value = dec_to_hexa_recursive(1230)\n",
        "print(f'Hexadecimal Number: {returned_value}') # This should print 4CE\n",
        "unittest.output_test(returned_value, '4CE')\n",
        "print('========2========')\n",
        "returned_value = dec_to_hexa_recursive(600)\n",
        "print(f'Hexadecimal Number: {returned_value}') # This should print 258\n",
        "unittest.output_test(returned_value, '258')"
      ],
      "metadata": {
        "id": "VlLtOS7hJ82d",
        "colab": {
          "base_uri": "https://localhost:8080/"
        },
        "outputId": "443c0c9f-b429-4f57-a1d9-038129ce9a5c"
      },
      "execution_count": null,
      "outputs": [
        {
          "output_type": "stream",
          "name": "stdout",
          "text": [
            "Use of encoding function\n",
            "Hexadecimal Number: 7\n",
            "Hexadecimal Number: D\n",
            "========1========\n",
            "Hexadecimal Number:  4CE\n",
            "Accepted\n",
            "========2========\n",
            "Hexadecimal Number:  258\n",
            "Accepted\n"
          ]
        }
      ]
    },
    {
      "cell_type": "code",
      "source": [
        "#c)\n",
        "def print_alphabets_recursive(head):\n",
        "  vowel = \"aeiou\"\n",
        "  if head!=None:\n",
        "    if head.elem in vowel:\n",
        "      print(head.elem,end=\" \")\n",
        "      return print_alphabets_recursive(head.next)\n",
        "    else:\n",
        "      print_alphabets_recursive(head.next)\n",
        "      print(head.elem, end=\" \")\n",
        "\n",
        "\n",
        "\n",
        "\n",
        "\n",
        "\n",
        "  #To Do\n",
        "\n",
        "\n",
        "head = create_linked_list(np.array(['b', 'e', 'a', 'u', 't', 'i', 'f', 'u', 'l']))\n",
        "print_alphabets_recursive(head) #This will print e a u i u l f t b"
      ],
      "metadata": {
        "id": "Rx7d1KQ4KYnD",
        "colab": {
          "base_uri": "https://localhost:8080/"
        },
        "outputId": "4d7f09f7-0ef2-468c-f08b-c12655a387da"
      },
      "execution_count": null,
      "outputs": [
        {
          "output_type": "stream",
          "name": "stdout",
          "text": [
            "e a u i u l f t b "
          ]
        }
      ]
    },
    {
      "cell_type": "code",
      "source": [
        "#d)\n",
        "def harmonic_sum(n):\n",
        "  #To Do\n",
        "  if n==1:\n",
        "    return 1\n",
        "  else:\n",
        "    return ((-1)**(n+1))/n + harmonic_sum(n-1)\n",
        "print(f'Harmonic Sum(3): {harmonic_sum(3)}') #This should print 0.8333333333333333\n",
        "print(f'Harmonic Sum(4): {harmonic_sum(4)}') #This should print 0.5833333333333333"
      ],
      "metadata": {
        "id": "R3rw-DcTKv9D",
        "colab": {
          "base_uri": "https://localhost:8080/"
        },
        "outputId": "1a14766f-7804-4088-9d4e-b019b50245e8"
      },
      "execution_count": null,
      "outputs": [
        {
          "output_type": "stream",
          "name": "stdout",
          "text": [
            "Harmonic Sum(3): 0.8333333333333333\n",
            "Harmonic Sum(4): 0.5833333333333333\n"
          ]
        }
      ]
    },
    {
      "cell_type": "markdown",
      "source": [
        "***Medium***"
      ],
      "metadata": {
        "id": "uIVLqevBLPR2"
      }
    },
    {
      "cell_type": "code",
      "source": [
        "#a)\n",
        "def hoc_Builder(height):\n",
        "  #To Do\n",
        "  if height==0:\n",
        "    return 0\n",
        "  if height==1:\n",
        "    return 8\n",
        "  else:\n",
        "    return 5+ hoc_Builder(height-1)\n",
        "\n",
        "print(f'Cards Needed: {hoc_Builder(4)}') #This should print 23\n",
        "unittest.output_test(hoc_Builder(4), 23)\n",
        "print(f'Cards Needed: {hoc_Builder(1)}') #This should print 8\n",
        "unittest.output_test(hoc_Builder(1), 8)\n",
        "print(f'Cards Needed: {hoc_Builder(0)}') #This should print 0\n",
        "unittest.output_test(hoc_Builder(0), 0)"
      ],
      "metadata": {
        "id": "4AK8p_IPLRuD",
        "colab": {
          "base_uri": "https://localhost:8080/"
        },
        "outputId": "df192642-37aa-4b56-ff28-a538a7073f66"
      },
      "execution_count": null,
      "outputs": [
        {
          "output_type": "stream",
          "name": "stdout",
          "text": [
            "Cards Needed: 23\n",
            "Accepted\n",
            "Cards Needed: 8\n",
            "Accepted\n",
            "Cards Needed: 0\n",
            "Accepted\n"
          ]
        }
      ]
    },
    {
      "cell_type": "code",
      "source": [
        "#b)\n",
        "def reach_goal(n):\n",
        "  #To Do\n",
        "  if n==1:\n",
        "    return 0\n",
        "  if n%2==0:\n",
        "    return 1+reach_goal(n//2)\n",
        "  else:\n",
        "    return 1 + reach_goal((n*3)+1)\n",
        "\n",
        "steps=reach_goal(21)\n",
        "print(f'Number of steps to reach the goal: {steps}')  #This should print 7\n",
        "unittest.output_test(steps, 7)"
      ],
      "metadata": {
        "id": "7ITBJGokNCK5",
        "colab": {
          "base_uri": "https://localhost:8080/"
        },
        "outputId": "9c616516-4f39-41a4-cacf-cb1f6398e8a7"
      },
      "execution_count": null,
      "outputs": [
        {
          "output_type": "stream",
          "name": "stdout",
          "text": [
            "Number of steps to reach the goal: 7\n",
            "Accepted\n"
          ]
        }
      ]
    },
    {
      "cell_type": "markdown",
      "source": [
        "***Hard***"
      ],
      "metadata": {
        "id": "PlLMRsV2NrZf"
      }
    },
    {
      "cell_type": "code",
      "source": [
        "#a)\n",
        "def print_pattern(n):\n",
        "  if n<0 or n==0:\n",
        "    return\n",
        "  def double(n):\n",
        "    if n<0 or n==0:\n",
        "      print(n , end=\" \")\n",
        "      return\n",
        "    print(n, end=\" \")\n",
        "    double(n-5)\n",
        "    print(n,end=\" \")\n",
        "  double(n)\n",
        "  print()\n",
        "  print_pattern(n-5)\n",
        "print('========1========')\n",
        "n = 16\n",
        "print_pattern(n)\n",
        "#This should print\n",
        "\n",
        "#16 11 6 1 -4 1 6 11 16\n",
        "#   11 6 1 -4 1 6 11\n",
        "#      6 1 -4 1 6\n",
        "#        1 -4 1\n",
        "\n",
        "print('========2========')\n",
        "n = 10\n",
        "print_pattern(n)\n",
        "#This should print\n",
        "\n",
        "#10 5 0 5 10\n",
        "#   5 0 5"
      ],
      "metadata": {
        "id": "RWAqyXraNtSJ",
        "colab": {
          "base_uri": "https://localhost:8080/"
        },
        "outputId": "a9290ccb-db22-4c92-9a39-2c69127d0081"
      },
      "execution_count": null,
      "outputs": [
        {
          "output_type": "stream",
          "name": "stdout",
          "text": [
            "========1========\n",
            "16 11 6 1 -4 1 6 11 16 \n",
            "11 6 1 -4 1 6 11 \n",
            "6 1 -4 1 6 \n",
            "1 -4 1 \n",
            "========2========\n",
            "10 5 0 5 10 \n",
            "5 0 5 \n"
          ]
        }
      ]
    },
    {
      "cell_type": "code",
      "source": [
        "#b)\n",
        "def merge_Lists(mid_list,final_list,combined_list):\n",
        "  def appnd(mid,i):\n",
        "    if i==len(mid):\n",
        "      return i\n",
        "    else:\n",
        "      final_list.append(mid[i])\n",
        "      return appnd(mid,i+1)\n",
        "  appnd(mid_list,0)\n",
        "  def ascending_sort(final,i):\n",
        "    if i==len(final):\n",
        "      return i\n",
        "    if i<len(final)-1:\n",
        "      if final[i]<final[i+1]:\n",
        "        final[i],final[i+1]=final[i+1],final[i]\n",
        "        i=-1\n",
        "    return ascending_sort(final,i+1)\n",
        "\n",
        "  ascending_sort(final_list,0)\n",
        "  return final_list\n",
        "\n",
        "mid=[5, 7, 14, 20, 24]\n",
        "final=[10, 12, 25]\n",
        "merged_list=merge_Lists(mid,final,[])\n",
        "print(merged_list)\n",
        "# This should print [25, 24, 20, 14, 12, 10, 7, 5]\n",
        "\n",
        "mid=[11, 20, 24, 28]\n",
        "final=[10, 12]\n",
        "merged_list=merge_Lists(mid,final,[])\n",
        "print(merged_list)\n",
        "# This should print [28, 24, 20, 12, 11, 10]\n"
      ],
      "metadata": {
        "id": "x9v3jcLlOiaF",
        "colab": {
          "base_uri": "https://localhost:8080/"
        },
        "outputId": "69bbafcd-024e-459d-f0ac-3a0b76f8f58e"
      },
      "execution_count": null,
      "outputs": [
        {
          "output_type": "stream",
          "name": "stdout",
          "text": [
            "[25, 24, 20, 14, 12, 10, 7, 5]\n",
            "[28, 24, 20, 12, 11, 10]\n"
          ]
        }
      ]
    },
    {
      "cell_type": "markdown",
      "source": [
        "***Very Hard***"
      ],
      "metadata": {
        "id": "zGz5S4uoO7wr"
      }
    },
    {
      "cell_type": "code",
      "source": [
        "def flatten_List(given_list, output_list):\n",
        "  #To Do\n",
        "  if not given_list:\n",
        "    return output_list\n",
        "  if type(given_list[0])==int:\n",
        "    output_list.append(given_list[0])\n",
        "    return flatten_List(given_list[1:],output_list)\n",
        "  else:\n",
        "    flatten_List(given_list[0], output_list)\n",
        "    return flatten_List(given_list[1:], output_list)\n",
        "\n",
        "\n",
        "given_list = [1, [2, [3, [4], 5], 6], 7, 8, [9, [[10, 11], 12], 13], 14, [15, [16, [17]]]]\n",
        "output_list = flatten_List(given_list, []) # Initial empty list is sent for update\n",
        "print(output_list)\n",
        "#This should print [1, 2, 3, 4, 5, 6, 7, 8, 9, 10, 11, 12, 13, 14, 15, 16, 17]"
      ],
      "metadata": {
        "id": "HGUnmMwQO_DH",
        "colab": {
          "base_uri": "https://localhost:8080/"
        },
        "outputId": "dce33069-ef71-483d-f1bc-45068eafdd2c"
      },
      "execution_count": null,
      "outputs": [
        {
          "output_type": "stream",
          "name": "stdout",
          "text": [
            "[1, 2, 3, 4, 5, 6, 7, 8, 9, 10, 11, 12, 13, 14, 15, 16, 17]\n"
          ]
        }
      ]
    },
    {
      "cell_type": "markdown",
      "source": [
        "***Bonus Task***"
      ],
      "metadata": {
        "id": "VIxr27qEP-b-"
      }
    },
    {
      "cell_type": "code",
      "source": [
        "def number_of_ways(steps):\n",
        "  #To Do\n",
        "  if  steps==0:\n",
        "    return 1\n",
        "  elif steps<=2:\n",
        "    return steps\n",
        "  return number_of_ways(steps-1) + number_of_ways(steps-2) + number_of_ways(steps-3)\n",
        "\n",
        "\n",
        "print(f'The number of ways you can climb the stairs: {number_of_ways(3)}') #This should print 4\n",
        "print(f'The number of ways you can climb the stairs: {number_of_ways(5)}') #This should print 13"
      ],
      "metadata": {
        "id": "kTNaTP-2QBSw",
        "colab": {
          "base_uri": "https://localhost:8080/"
        },
        "outputId": "8803bd17-6883-4244-d8c8-fbb43d2474a5"
      },
      "execution_count": null,
      "outputs": [
        {
          "output_type": "stream",
          "name": "stdout",
          "text": [
            "The number of ways you can climb the stairs: 4\n",
            "The number of ways you can climb the stairs: 13\n"
          ]
        }
      ]
    }
  ]
}